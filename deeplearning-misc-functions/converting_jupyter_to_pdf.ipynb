{
 "cells": [
  {
   "cell_type": "code",
   "execution_count": 1,
   "id": "761c5685-3a23-44e1-8419-799d8d78317c",
   "metadata": {},
   "outputs": [
    {
     "name": "stdout",
     "output_type": "stream",
     "text": [
      "/Users/sudhanshu/Documents/gitrepository/BigData-Concepts-using-PySpark/big-data-concepts-by-trendytech/Week4-ApacheSparkCoreAPIs-RDD\n"
     ]
    }
   ],
   "source": [
    "!pwd"
   ]
  },
  {
   "cell_type": "code",
   "execution_count": 11,
   "id": "ed7e3627-f5bd-401d-b5c8-3056e53859ac",
   "metadata": {},
   "outputs": [
    {
     "name": "stdout",
     "output_type": "stream",
     "text": [
      "['08_SparkCoreAPIs-Join.ipynb', '05_SparkTransformation.ipynb', '01_WordCountExample.ipynb', '06_reuceByKey_vs_reduce.ipynb', 'Untitled.ipynb', '04_SparkCoreAPIs-Parallelize2.ipynb', '03_SparkCoreAPIs-Parallelize.ipynb', '01_HigherOrderFunction.ipynb', '02_SparkUseCase1-OrdersData.ipynb', '07_reduceByKey_vs_groupByKey.ipynb', '09_SparkCoreAPIs-Broadcasting-Joins.ipynb', '10_SparkCoreAPIs-Repartition_and_Coalesce.ipynb']\n"
     ]
    }
   ],
   "source": [
    "import os\n",
    "import glob\n",
    "\n",
    "# Specify the directory where the notebooks are located\n",
    "directory = '/Users/sudhanshu/Documents/gitrepository/BigData-Concepts-using-PySpark/big-data-concepts-by-trendytech/Week4-ApacheSparkCoreAPIs-RDD'\n",
    "\n",
    "# List all .ipynb files in the directory\n",
    "notebook_files = glob.glob(\"*.ipynb\")\n",
    "\n",
    "# Print the list of notebook files\n",
    "print(notebook_files)"
   ]
  },
  {
   "cell_type": "code",
   "execution_count": 13,
   "id": "36b2ca61-27f7-4771-b1ad-f646d4827100",
   "metadata": {},
   "outputs": [],
   "source": [
    "# import nbformat\n",
    "# \n",
    "# # List of your notebooks to be merged\n",
    "# notebooks = ['01_WordCountExample.ipynb', '01_HigherOrderFunction.ipynb', '02_SparkUseCase1-OrdersData.ipynb',\n",
    "#              '03_SparkCoreAPIs-Parallelize.ipynb', '04_SparkCoreAPIs-Parallelize2.ipynb', '05_SparkTransformation.ipynb', \n",
    "#              '06_reuceByKey_vs_reduce.ipynb', '07_reduceByKey_vs_groupByKey.ipynb', '08_SparkCoreAPIs-Join.ipynb', \n",
    "#              '09_SparkCoreAPIs-Broadcasting-Joins.ipynb', '10_SparkCoreAPIs-Repartition_and_Coalesce.ipynb']\n",
    "# \n",
    "# # Initialize an empty notebook\n",
    "# merged_notebook = nbformat.v4.new_notebook()\n",
    "# \n",
    "# for notebook in notebooks:\n",
    "#     with open(notebook, 'r', encoding='utf-8') as f:\n",
    "#         nb = nbformat.read(f, as_version=4)\n",
    "#         merged_notebook.cells.extend(nb.cells)\n",
    "# \n",
    "# # Save the merged notebook\n",
    "# with open('merged_notebook.ipynb', 'w', encoding='utf-8') as f:\n",
    "#     nbformat.write(merged_notebook, f)"
   ]
  },
  {
   "cell_type": "code",
   "execution_count": 16,
   "id": "07e7878f-3c17-420a-a3b9-5e68e24d34ce",
   "metadata": {},
   "outputs": [
    {
     "name": "stderr",
     "output_type": "stream",
     "text": [
      "[NbConvertApp] Converting notebook 01_WordCountExample.ipynb to pdf\n",
      "[NbConvertApp] Writing 29984 bytes to notebook.tex\n",
      "[NbConvertApp] Building PDF\n",
      "[NbConvertApp] Running xelatex 3 times: ['xelatex', 'notebook.tex', '-quiet']\n",
      "[NbConvertApp] Running bibtex 1 time: ['bibtex', 'notebook']\n",
      "[NbConvertApp] WARNING | bibtex had problems, most likely because there were no citations\n",
      "[NbConvertApp] PDF successfully created\n",
      "[NbConvertApp] Writing 38563 bytes to 01_WordCountExample.pdf\n",
      "[NbConvertApp] Converting notebook 01_HigherOrderFunction.ipynb to pdf\n",
      "[NbConvertApp] Writing 27350 bytes to notebook.tex\n",
      "[NbConvertApp] Building PDF\n",
      "[NbConvertApp] Running xelatex 3 times: ['xelatex', 'notebook.tex', '-quiet']\n",
      "[NbConvertApp] Running bibtex 1 time: ['bibtex', 'notebook']\n",
      "[NbConvertApp] WARNING | bibtex had problems, most likely because there were no citations\n",
      "[NbConvertApp] PDF successfully created\n",
      "[NbConvertApp] Writing 29307 bytes to 01_HigherOrderFunction.pdf\n",
      "[NbConvertApp] Converting notebook 02_SparkUseCase1-OrdersData.ipynb to pdf\n",
      "[NbConvertApp] Writing 45365 bytes to notebook.tex\n",
      "[NbConvertApp] Building PDF\n",
      "[NbConvertApp] Running xelatex 3 times: ['xelatex', 'notebook.tex', '-quiet']\n",
      "[NbConvertApp] Running bibtex 1 time: ['bibtex', 'notebook']\n",
      "[NbConvertApp] WARNING | bibtex had problems, most likely because there were no citations\n",
      "[NbConvertApp] PDF successfully created\n",
      "[NbConvertApp] Writing 50479 bytes to 02_SparkUseCase1-OrdersData.pdf\n",
      "[NbConvertApp] Converting notebook 03_SparkCoreAPIs-Parallelize.ipynb to pdf\n",
      "[NbConvertApp] Writing 29154 bytes to notebook.tex\n",
      "[NbConvertApp] Building PDF\n",
      "[NbConvertApp] Running xelatex 3 times: ['xelatex', 'notebook.tex', '-quiet']\n",
      "[NbConvertApp] Running bibtex 1 time: ['bibtex', 'notebook']\n",
      "[NbConvertApp] WARNING | bibtex had problems, most likely because there were no citations\n",
      "[NbConvertApp] PDF successfully created\n",
      "[NbConvertApp] Writing 38692 bytes to 03_SparkCoreAPIs-Parallelize.pdf\n",
      "[NbConvertApp] Converting notebook 04_SparkCoreAPIs-Parallelize2.ipynb to pdf\n",
      "[NbConvertApp] Writing 33673 bytes to notebook.tex\n",
      "[NbConvertApp] Building PDF\n",
      "[NbConvertApp] Running xelatex 3 times: ['xelatex', 'notebook.tex', '-quiet']\n",
      "[NbConvertApp] Running bibtex 1 time: ['bibtex', 'notebook']\n",
      "[NbConvertApp] WARNING | bibtex had problems, most likely because there were no citations\n",
      "[NbConvertApp] PDF successfully created\n",
      "[NbConvertApp] Writing 48727 bytes to 04_SparkCoreAPIs-Parallelize2.pdf\n",
      "[NbConvertApp] Converting notebook 05_SparkTransformation.ipynb to pdf\n",
      "[NbConvertApp] Writing 22623 bytes to notebook.tex\n",
      "[NbConvertApp] Building PDF\n",
      "[NbConvertApp] Running xelatex 3 times: ['xelatex', 'notebook.tex', '-quiet']\n",
      "[NbConvertApp] Running bibtex 1 time: ['bibtex', 'notebook']\n",
      "[NbConvertApp] WARNING | bibtex had problems, most likely because there were no citations\n",
      "[NbConvertApp] PDF successfully created\n",
      "[NbConvertApp] Writing 31815 bytes to 05_SparkTransformation.pdf\n",
      "[NbConvertApp] Converting notebook 06_reuceByKey_vs_reduce.ipynb to pdf\n",
      "[NbConvertApp] Writing 25769 bytes to notebook.tex\n",
      "[NbConvertApp] Building PDF\n",
      "[NbConvertApp] Running xelatex 3 times: ['xelatex', 'notebook.tex', '-quiet']\n",
      "[NbConvertApp] Running bibtex 1 time: ['bibtex', 'notebook']\n",
      "[NbConvertApp] WARNING | bibtex had problems, most likely because there were no citations\n",
      "[NbConvertApp] PDF successfully created\n",
      "[NbConvertApp] Writing 32023 bytes to 06_reuceByKey_vs_reduce.pdf\n",
      "[NbConvertApp] Converting notebook 07_reduceByKey_vs_groupByKey.ipynb to pdf\n",
      "[NbConvertApp] Writing 31571 bytes to notebook.tex\n",
      "[NbConvertApp] Building PDF\n",
      "[NbConvertApp] Running xelatex 3 times: ['xelatex', 'notebook.tex', '-quiet']\n",
      "[NbConvertApp] Running bibtex 1 time: ['bibtex', 'notebook']\n",
      "[NbConvertApp] WARNING | bibtex had problems, most likely because there were no citations\n",
      "[NbConvertApp] PDF successfully created\n",
      "[NbConvertApp] Writing 36322 bytes to 07_reduceByKey_vs_groupByKey.pdf\n",
      "[NbConvertApp] Converting notebook 08_SparkCoreAPIs-Join.ipynb to pdf\n",
      "[NbConvertApp] Writing 28999 bytes to notebook.tex\n",
      "[NbConvertApp] Building PDF\n",
      "[NbConvertApp] Running xelatex 3 times: ['xelatex', 'notebook.tex', '-quiet']\n",
      "[NbConvertApp] Running bibtex 1 time: ['bibtex', 'notebook']\n",
      "[NbConvertApp] WARNING | bibtex had problems, most likely because there were no citations\n",
      "[NbConvertApp] PDF successfully created\n",
      "[NbConvertApp] Writing 36257 bytes to 08_SparkCoreAPIs-Join.pdf\n",
      "[NbConvertApp] Converting notebook 09_SparkCoreAPIs-Broadcasting-Joins.ipynb to pdf\n",
      "[NbConvertApp] Writing 29482 bytes to notebook.tex\n",
      "[NbConvertApp] Building PDF\n",
      "[NbConvertApp] Running xelatex 3 times: ['xelatex', 'notebook.tex', '-quiet']\n",
      "[NbConvertApp] Running bibtex 1 time: ['bibtex', 'notebook']\n",
      "[NbConvertApp] WARNING | bibtex had problems, most likely because there were no citations\n",
      "[NbConvertApp] PDF successfully created\n",
      "[NbConvertApp] Writing 37040 bytes to 09_SparkCoreAPIs-Broadcasting-Joins.pdf\n",
      "[NbConvertApp] Converting notebook 10_SparkCoreAPIs-Repartition_and_Coalesce.ipynb to pdf\n",
      "[NbConvertApp] Writing 28715 bytes to notebook.tex\n",
      "[NbConvertApp] Building PDF\n",
      "[NbConvertApp] Running xelatex 3 times: ['xelatex', 'notebook.tex', '-quiet']\n",
      "[NbConvertApp] Running bibtex 1 time: ['bibtex', 'notebook']\n",
      "[NbConvertApp] WARNING | bibtex had problems, most likely because there were no citations\n",
      "[NbConvertApp] PDF successfully created\n",
      "[NbConvertApp] Writing 35244 bytes to 10_SparkCoreAPIs-Repartition_and_Coalesce.pdf\n"
     ]
    }
   ],
   "source": [
    "import nbformat\n",
    "import os\n",
    "\n",
    "# List of your notebooks to be merged\n",
    "notebooks = ['01_WordCountExample.ipynb', '01_HigherOrderFunction.ipynb', '02_SparkUseCase1-OrdersData.ipynb',\n",
    "             '03_SparkCoreAPIs-Parallelize.ipynb', '04_SparkCoreAPIs-Parallelize2.ipynb', '05_SparkTransformation.ipynb', \n",
    "             '06_reuceByKey_vs_reduce.ipynb', '07_reduceByKey_vs_groupByKey.ipynb', '08_SparkCoreAPIs-Join.ipynb', \n",
    "             '09_SparkCoreAPIs-Broadcasting-Joins.ipynb', '10_SparkCoreAPIs-Repartition_and_Coalesce.ipynb']\n",
    "\n",
    "for notebook in notebooks:\n",
    "    os.system(f\"jupyter nbconvert --to pdf {notebook}\")"
   ]
  },
  {
   "cell_type": "code",
   "execution_count": null,
   "id": "5d02d4cc-3101-45ab-9a3d-cb84f4869e5f",
   "metadata": {},
   "outputs": [],
   "source": []
  }
 ],
 "metadata": {
  "kernelspec": {
   "display_name": "Python 3 (ipykernel)",
   "language": "python",
   "name": "python3"
  },
  "language_info": {
   "codemirror_mode": {
    "name": "ipython",
    "version": 3
   },
   "file_extension": ".py",
   "mimetype": "text/x-python",
   "name": "python",
   "nbconvert_exporter": "python",
   "pygments_lexer": "ipython3",
   "version": "3.12.4"
  }
 },
 "nbformat": 4,
 "nbformat_minor": 5
}
